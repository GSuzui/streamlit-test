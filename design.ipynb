{
 "cells": [
  {
   "cell_type": "code",
   "execution_count": 1,
   "metadata": {},
   "outputs": [
    {
     "name": "stdout",
     "output_type": "stream",
     "text": [
      "Writing model.py\n"
     ]
    }
   ],
   "source": [
    "%%writefile model.py\n",
    "# 以下を「model.py」に書き込み\n",
    "import torch\n",
    "import torch.nn as nn\n",
    "import torch.nn.functional as F\n",
    "from torchvision import models, transforms\n",
    "from PIL import Image\n",
    "\n",
    "classes_ja = [\"飛行機\", \"自動車\", \"鳥\", \"猫\", \"鹿\", \"犬\", \"カエル\", \"馬\", \"船\", \"トラック\"]\n",
    "classes_en = [\"airplane\", \"automobile\", \"bird\", \"cat\", \"deer\", \"dog\", \"frog\", \"horse\", \"ship\", \"truck\"]\n",
    "n_class = len(classes_ja)\n",
    "img_size = 32\n",
    "\n",
    "# CNNのモデル\n",
    "class Net(nn.Module):\n",
    "    def __init__(self):\n",
    "        super().__init__()\n",
    "        self.conv1 = nn.Conv2d(3, 6, 5)\n",
    "        self.pool = nn.MaxPool2d(2, 2)\n",
    "        self.conv2 = nn.Conv2d(6, 16, 5)\n",
    "        self.fc1 = nn.Linear(16*5*5, 256)\n",
    "        self.dropout = nn.Dropout(p=0.5)\n",
    "        self.fc2 = nn.Linear(256, 10)\n",
    "\n",
    "    def forward(self, x):\n",
    "        x = self.pool(F.relu(self.conv1(x)))\n",
    "        x = self.pool(F.relu(self.conv2(x)))\n",
    "        x = x.view(-1, 16*5*5)\n",
    "        x = F.relu(self.fc1(x))\n",
    "        x = self.dropout(x)\n",
    "        x = self.fc2(x)\n",
    "        return x\n",
    "\n",
    "def predict(img):\n",
    "    # モデルへの入力\n",
    "    img = img.convert(\"RGB\")\n",
    "    img = img.resize((img_size, img_size))\n",
    "    transform = transforms.Compose([transforms.ToTensor(),\n",
    "                                    transforms.Normalize((0.0, 0.0, 0.0), (1.0, 1.0, 1.0))  # 平均値を0、標準偏差を1に\n",
    "                                ])\n",
    "    img = transform(img)\n",
    "    x = img.reshape(1, 3, img_size, img_size)\n",
    "\n",
    "    # 訓練済みモデル\n",
    "    net = Net()\n",
    "    net.load_state_dict(torch.load(\n",
    "        \"model_cnn.pth\", map_location=torch.device(\"cpu\")\n",
    "        ))\n",
    "    \n",
    "    # 予測\n",
    "    net.eval()\n",
    "    y = net(x)\n",
    "\n",
    "    # 結果を返す\n",
    "    y_prob = torch.nn.functional.softmax(torch.squeeze(y))  # 確率で表す\n",
    "    sorted_prob, sorted_indices = torch.sort(y_prob, descending=True)  # 降順にソート\n",
    "    return [(classes_ja[idx], classes_en[idx], prob.item()) for idx, prob in zip(sorted_indices, sorted_prob)]\n",
    "     "
   ]
  },
  {
   "cell_type": "code",
   "execution_count": 2,
   "metadata": {},
   "outputs": [
    {
     "name": "stdout",
     "output_type": "stream",
     "text": [
      "Overwriting main.py\n"
     ]
    }
   ],
   "source": [
    "%%writefile main.py\n",
    "# 以下を「app.py」に書き込み\n",
    "import streamlit as st\n",
    "import matplotlib.pyplot as plt\n",
    "from PIL import Image\n",
    "from model import predict\n",
    "\n",
    "st.set_option(\"deprecation.showfileUploaderEncoding\", False)\n",
    "\n",
    "st.sidebar.title(\"画像認識アプリ\")\n",
    "st.sidebar.write(\"オリジナルの画像認識モデルを使って何の画像かを判定します。\")\n",
    "\n",
    "st.sidebar.write(\"\")\n",
    "\n",
    "img_source = st.sidebar.radio(\"画像のソースを選択してください。\",\n",
    "                              (\"画像をアップロード\", \"カメラで撮影\"))\n",
    "if img_source == \"画像をアップロード\":\n",
    "    img_file = st.sidebar.file_uploader(\"画像を選択してください。\", type=[\"png\", \"jpg\"])\n",
    "elif img_source == \"カメラで撮影\":\n",
    "    img_file = st.camera_input(\"カメラで撮影\")\n",
    "\n",
    "if img_file is not None:\n",
    "    with st.spinner(\"推定中...\"):\n",
    "        img = Image.open(img_file)\n",
    "        st.image(img, caption=\"対象の画像\", width=480)\n",
    "        st.write(\"\")\n",
    "\n",
    "        # 予測\n",
    "        results = predict(img)\n",
    "\n",
    "        # 結果の表示\n",
    "        st.subheader(\"判定結果\")\n",
    "        n_top = 3  # 確率が高い順に3位まで返す\n",
    "        for result in results[:n_top]:\n",
    "            st.write(str(round(result[2]*100, 2)) + \"%の確率で\" + result[0] + \"です。\")\n",
    "\n",
    "        # 円グラフの表示\n",
    "        pie_labels = [result[1] for result in results[:n_top]]\n",
    "        pie_labels.append(\"others\")\n",
    "        pie_probs = [result[2] for result in results[:n_top]]\n",
    "        pie_probs.append(sum([result[2] for result in results[n_top:]]))\n",
    "        fig, ax = plt.subplots()\n",
    "        wedgeprops={\"width\":0.3, \"edgecolor\":\"white\"}\n",
    "        textprops = {\"fontsize\":6}\n",
    "        ax.pie(pie_probs, labels=pie_labels, counterclock=False, startangle=90,\n",
    "               textprops=textprops, autopct=\"%.2f\", wedgeprops=wedgeprops)  # 円グラフ\n",
    "        st.pyplot(fig)"
   ]
  },
  {
   "cell_type": "code",
   "execution_count": null,
   "metadata": {},
   "outputs": [],
   "source": []
  }
 ],
 "metadata": {
  "kernelspec": {
   "display_name": "Python 3",
   "language": "python",
   "name": "python3"
  },
  "language_info": {
   "codemirror_mode": {
    "name": "ipython",
    "version": 3
   },
   "file_extension": ".py",
   "mimetype": "text/x-python",
   "name": "python",
   "nbconvert_exporter": "python",
   "pygments_lexer": "ipython3",
   "version": "3.10.11"
  },
  "orig_nbformat": 4
 },
 "nbformat": 4,
 "nbformat_minor": 2
}
